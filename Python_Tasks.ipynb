{
 "cells": [
  {
   "cell_type": "code",
   "execution_count": null,
   "id": "e2abb239",
   "metadata": {},
   "outputs": [
    {
     "ename": "",
     "evalue": "",
     "output_type": "error",
     "traceback": [
      "\u001b[1;31mRunning cells with 'Python 3.13.1' requires the ipykernel package.\n",
      "\u001b[1;31m<a href='command:jupyter.createPythonEnvAndSelectController'>Create a Python Environment</a> with the required packages."
     ]
    }
   ],
   "source": [
    "# YMH220 - İleri Programlama Teknikleri\n",
    "## Python Egzersizleri\n",
    "\n",
    "### İsim: Fatih Burak\n",
    "### Öğrenci No:  220541050  \n",
    "### Tarih:  08.04.2025\n"
   ]
  },
  {
   "cell_type": "markdown",
   "id": "570c2a05",
   "metadata": {},
   "source": [
    "# Soru 1\n",
    "### Verilen bir tam sayının asal sayı olup olmadığını belirleyen `asal_mi` isimli Python fonksiyonunu yazınız.\n",
    "\n",
    "### Fonksiyonunuzu test edin\n",
    "```python\n",
    "print(asal_mi(11))  # Beklenen çıktı: True\n",
    "print(asal_mi(15))  # Beklenen çıktı: False\n",
    "```"
   ]
  },
  {
   "cell_type": "code",
   "execution_count": null,
   "id": "72806d01",
   "metadata": {},
   "outputs": [],
   "source": [
    "# Çözümünüzü buraya yazınız\n",
    "def asal_mi(sayi):\n",
    "    if sayi < 2:\n",
    "        return False\n",
    "    for i in range(2, int(sayi**0.5) + 1):\n",
    "        if sayi % i == 0:\n",
    "            return False\n",
    "    return True\n",
    "\n",
    "\n",
    "print(asal_mi(11))  # Beklenen çıktı: True\n",
    "print(asal_mi(15))  # Beklenen çıktı: False\n",
    "\n"
   ]
  },
  {
   "cell_type": "markdown",
   "id": "2c5e4bd9",
   "metadata": {},
   "source": [
    "# Soru 2\n",
    "### İki tam sayının en büyük ortak bölenini (EBOB) Öklid algoritması ile hesaplayan `ebob` isimli Python fonksiyonunu yazınız.\n",
    "\n",
    "### Fonksiyonunuzu test edin\n",
    "```python\n",
    "print(ebob(48, 18))  # Beklenen çıktı: 6\n",
    "print(ebob(100, 25))  # Beklenen çıktı: 25\n",
    "```"
   ]
  },
  {
   "cell_type": "code",
   "execution_count": null,
   "id": "e4c8987e",
   "metadata": {},
   "outputs": [
    {
     "ename": "",
     "evalue": "",
     "output_type": "error",
     "traceback": [
      "\u001b[1;31mRunning cells with 'Python 3.13.1' requires the ipykernel package.\n",
      "\u001b[1;31m<a href='command:jupyter.createPythonEnvAndSelectController'>Create a Python Environment</a> with the required packages."
     ]
    }
   ],
   "source": [
    "# Çözümünüzü buraya yazınız\n",
    "\n",
    "def ebob(a, b):\n",
    "    while b:\n",
    "        a, b = b, a % b\n",
    "    return a\n",
    "\n",
    "print(ebob(48, 18))  # Beklenen çıktı: 6\n",
    "print(ebob(100, 25))  # Beklenen çıktı: 25\n",
    "\n"
   ]
  },
  {
   "cell_type": "markdown",
   "id": "499fd7b4",
   "metadata": {},
   "source": [
    "# Soru 3\n",
    "### Verilen bir metindeki sesli harflerin (a, e, ı, i, o, ö, u, ü) sayısını hesaplayarak döndüren `sesli_harf_sayisi` fonksiyonunu yazınız.\n",
    "\n",
    "### Fonksiyonunuzu test edin\n",
    "```python\n",
    "print(sesli_harf_sayisi(\"programlama\"))  # Beklenen çıktı: 4\n",
    "print(sesli_harf_sayisi(\"algoritma\"))  # Beklenen çıktı: 4\n",
    "```"
   ]
  },
  {
   "cell_type": "code",
   "execution_count": null,
   "id": "5488e486",
   "metadata": {},
   "outputs": [],
   "source": [
    "# Çözümünüzü buraya yazınız\n",
    "\n",
    "def sesli_harf_sayisi(metin):\n",
    "    sesli_harfler = \"aeıioöuü\"\n",
    "    sayac = 0\n",
    "    for harf in metin:\n",
    "        if harf in sesli_harfler:\n",
    "            sayac += 1\n",
    "    return sayac\n",
    "\n",
    "print(sesli_harf_sayisi(\"programlama\"))  # Beklenen çıktı: 4\n",
    "print(sesli_harf_sayisi(\"algoritma\"))  # Beklenen çıktı: 4\n"
   ]
  },
  {
   "cell_type": "markdown",
   "id": "f61da9c2",
   "metadata": {},
   "source": [
    "# Soru 4\n",
    "### İki sıralı listeyi tek bir sıralı liste olarak birleştiren ve hazır sıralama fonksiyonlarını kullanmayan `sirali_listeleri_birlestir` fonksiyonunu yazınız.\n",
    "\n",
    "### Fonksiyonunuzu test edin\n",
    "```python\n",
    "print(sirali_listeleri_birlestir([1, 3, 5], [2, 4, 6]))  # Beklenen çıktı: [1, 2, 3, 4, 5, 6]\n",
    "print(sirali_listeleri_birlestir([-3, 0, 7], [-1, 4, 10]))  # Beklenen çıktı: [-3, -1, 0, 4, 7, 10]\n",
    "```"
   ]
  },
  {
   "cell_type": "code",
   "execution_count": null,
   "id": "284fd7c4",
   "metadata": {},
   "outputs": [],
   "source": [
    "# Çözümünüzü buraya yazınız\n",
    "def sirali_listeleri_birlestir(liste1, liste2):\n",
    "    i, j = 0, 0\n",
    "    sonuc = []\n",
    "    \n",
    "    while i < len(liste1) and j < len(liste2):\n",
    "        if liste1[i] < liste2[j]:\n",
    "            sonuc.append(liste1[i])\n",
    "            i += 1\n",
    "        else:\n",
    "            sonuc.append(liste2[j])\n",
    "            j += 1\n",
    "    \n",
    "   \n",
    "    sonuc.extend(liste1[i:])\n",
    "    sonuc.extend(liste2[j:])\n",
    "    \n",
    "    return sonuc\n",
    "\n",
    "\n",
    "print(sirali_listeleri_birlestir([1, 3, 5], [2, 4, 6]))  # Beklenen çıktı: [1, 2, 3, 4, 5, 6]\n",
    "print(sirali_listeleri_birlestir([-3, 0, 7], [-1, 4, 10]))  # Beklenen çıktı: [-3, -1, 0, 4, 7, 10]\n",
    "\n"
   ]
  },
  {
   "cell_type": "markdown",
   "id": "4987ac27",
   "metadata": {},
   "source": [
    "# Soru 5\n",
    "### Sıralı bir listede ikili arama algoritmasını kullanarak verilen elemanın indeksini bulan (eğer eleman listede yoksa -1 dönen) `ikili_arama` fonksiyonunu yazınız.\n",
    "\n",
    "### Fonksiyonunuzu test edin\n",
    "```python\n",
    "print(ikili_arama([1, 3, 5, 7, 9, 11], 7))  # Beklenen çıktı: 3\n",
    "print(ikili_arama([2, 4, 6, 8, 10], 5))  # Beklenen çıktı: -1\n",
    "```"
   ]
  },
  {
   "cell_type": "code",
   "execution_count": null,
   "id": "0320ee58",
   "metadata": {},
   "outputs": [],
   "source": [
    "# Çözümünüzü buraya yazınız\n",
    "\n",
    "def ikili_arama(liste, hedef):\n",
    "    sol, sag = 0, len(liste) - 1\n",
    "    \n",
    "    while sol <= sag:\n",
    "        orta = (sol + sag) // 2\n",
    "        if liste[orta] == hedef:\n",
    "            return orta\n",
    "        elif liste[orta] < hedef:\n",
    "            sol = orta + 1\n",
    "        else:\n",
    "            sag = orta - 1\n",
    "    \n",
    "    return -1\n",
    "\n",
    "# Testler\n",
    "print(ikili_arama([1, 3, 5, 7, 9, 11], 7))  # Beklenen çıktı: 3\n",
    "print(ikili_arama([2, 4, 6, 8, 10], 5))  # Beklenen çıktı: -1\n"
   ]
  }
 ],
 "metadata": {
  "kernelspec": {
   "display_name": "Python 3",
   "language": "python",
   "name": "python3"
  },
  "language_info": {
   "name": "python",
   "version": "3.13.1"
  }
 },
 "nbformat": 4,
 "nbformat_minor": 5
}
